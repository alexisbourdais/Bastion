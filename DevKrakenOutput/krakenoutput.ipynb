{
 "cells": [
  {
   "cell_type": "code",
   "execution_count": 30,
   "metadata": {},
   "outputs": [],
   "source": [
    "#KrakenOutput\n",
    "KrakenFile = open('/home/alexis/Taff/Genera/Dev/Results_old/Kraken/100.report.txt')\n",
    "for line in KrakenFile:\n",
    "\n",
    "    split_line = line.split(\"\\t\")\n",
    "    percent = split_line[0]\n",
    "    clade = split_line[3]\n",
    "    taxon = split_line[5]\n",
    "\n",
    "    if (percent < 90):\n",
    "        continue\n",
    "    else:\n",
    "        if (clade == \"P\"):\n",
    "            pass\n",
    "\n",
    "        if (clade == \"C\"):\n",
    "            pass\n",
    "\n",
    "        if (clade == \"O\"):\n",
    "            pass\n",
    "\n",
    "        if (clade == \"F\"):\n",
    "            pass\n",
    "\n",
    "        if (clade == \"G\"):\n",
    "            pass"
   ]
  },
  {
   "cell_type": "code",
   "execution_count": 31,
   "metadata": {},
   "outputs": [
    {
     "name": "stdout",
     "output_type": "stream",
     "text": [
      "  0.00\t1\t1\tS\t860235\t                  Kibdelosporangium phytohabitans\n",
      "['  0.00', '1', '1', 'S', '860235', '                  Kibdelosporangium phytohabitans\\n']\n"
     ]
    },
    {
     "data": {
      "text/plain": [
       "'S'"
      ]
     },
     "execution_count": 31,
     "metadata": {},
     "output_type": "execute_result"
    }
   ],
   "source": [
    "print(split_list)\n",
    "\n",
    "taxon"
   ]
  }
 ],
 "metadata": {
  "kernelspec": {
   "display_name": "base",
   "language": "python",
   "name": "python3"
  },
  "language_info": {
   "codemirror_mode": {
    "name": "ipython",
    "version": 3
   },
   "file_extension": ".py",
   "mimetype": "text/x-python",
   "name": "python",
   "nbconvert_exporter": "python",
   "pygments_lexer": "ipython3",
   "version": "3.9.16"
  }
 },
 "nbformat": 4,
 "nbformat_minor": 2
}
